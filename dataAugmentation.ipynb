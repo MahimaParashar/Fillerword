{
 "cells": [
  {
   "cell_type": "code",
   "execution_count": 2,
   "metadata": {
    "collapsed": true
   },
   "outputs": [],
   "source": [
    "import numpy as np\n",
    "import random\n",
    "import itertools\n",
    "import librosa\n",
    "import IPython.display as ipd\n",
    "import matplotlib.pyplot as plt\n",
    "import scipy\n",
    "import os   \n",
    "from tqdm import tqdm\n",
    "%matplotlib inline"
   ]
  },
  {
   "cell_type": "code",
   "execution_count": 3,
   "metadata": {
    "collapsed": true
   },
   "outputs": [],
   "source": [
    "\n",
    "def augment_data(data_dir):\n",
    "    for file in tqdm(os.listdir(data_dir)):\n",
    "        disfluency = 0\n",
    "        if file.endswith(\".wav\"):\n",
    "            data_file_name = file[:-4]\n",
    "            with open(os.path.join(data_dir, data_file_name + \"_label.txt\")) as l:\n",
    "                label = l.read()\n",
    "            if label:\n",
    "                disfluency = 1 #discrepancy\n",
    "                \n",
    "            ###Augmenting Data\n",
    "            \n",
    "            input_length = 63150\n",
    "            data, sr = librosa.load(os.path.join(data_dir, file))\n",
    "            if len(data)>input_length:\n",
    "                data = data[:input_length]\n",
    "            else:\n",
    "                data = np.pad(data, (0, max(0, input_length - len(data))), \"constant\")\n",
    "            \n",
    "            #Adding white noise\n",
    "            wn = np.random.randn(len(data))\n",
    "            data_wn = data + 0.005*wn\n",
    "            with open(os.path.join(data_dir, data_file_name + \"_wn.wav\"), \"wb\") as w:\n",
    "                scipy.io.wavfile.write(w, sr, data_wn)\n",
    "#             with open(\"./data/augmentedData/\" + data_file_name +\"_ad.wav\", \"wb\") as w:\n",
    "#                 scipy.io.wavfile.write(w, sr, data_wn)\n",
    "            \n",
    "            with open(os.path.join(data_dir, data_file_name + \"_wn_label.txt\"), \"w\") as label_file:\n",
    "                if disfluency == 1:\n",
    "                    label_file.write(\"Disfluency\")\n",
    "                else:\n",
    "                    label_file.write(\"\")\n",
    "            \n",
    "            #Shifting the sound\n",
    "            data_roll = np.roll(data, 1600)\n",
    "            with open(os.path.join(data_dir, data_file_name + \"_shift.wav\"), \"wb\") as w:\n",
    "                scipy.io.wavfile.write(w, sr, data_roll)\n",
    "            \n",
    "            with open(os.path.join(data_dir, data_file_name + \"_shift_label.txt\"), \"w\") as label_file:\n",
    "                if disfluency == 1:\n",
    "                    label_file.write(\"Disfluency\")\n",
    "                else:\n",
    "                    label_file.write(\"\")\n",
    "            \n",
    "            "
   ]
  },
  {
   "cell_type": "code",
   "execution_count": 4,
   "metadata": {},
   "outputs": [
    {
     "name": "stderr",
     "output_type": "stream",
     "text": [
      "100%|██████████| 32616/32616 [33:11<00:00, 16.38it/s]  \n"
     ]
    }
   ],
   "source": [
    "augment_data(\"./data/Augmented_Data\")"
   ]
  },
  {
   "cell_type": "code",
   "execution_count": null,
   "metadata": {
    "collapsed": true
   },
   "outputs": [],
   "source": []
  }
 ],
 "metadata": {
  "kernelspec": {
   "display_name": "Python 2",
   "language": "python",
   "name": "python2"
  },
  "language_info": {
   "codemirror_mode": {
    "name": "ipython",
    "version": 2
   },
   "file_extension": ".py",
   "mimetype": "text/x-python",
   "name": "python",
   "nbconvert_exporter": "python",
   "pygments_lexer": "ipython2",
   "version": "2.7.14"
  }
 },
 "nbformat": 4,
 "nbformat_minor": 2
}
